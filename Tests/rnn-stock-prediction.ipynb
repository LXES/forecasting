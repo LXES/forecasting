{
 "cells": [
  {
   "cell_type": "code",
   "execution_count": 1,
   "metadata": {
    "collapsed": true
   },
   "outputs": [],
   "source": [
    "import tensorflow as tf\n",
    "import numpy as np\n",
    "import matplotlib\n",
    "import os\n",
    "import matplotlib.pyplot as plt\n",
    "\n",
    "tf.set_random_seed(777)\n",
    "\n",
    "#Min Max Normalization\n",
    "def MinMaxScaler(data):\n",
    "    numerator = data - np.min(data, 0)\n",
    "    denominator = np.max(data, 0) - np.min(data, 0)\n",
    "    return numerator / (denominator + 1e-7)"
   ]
  },
  {
   "cell_type": "code",
   "execution_count": 3,
   "metadata": {},
   "outputs": [
    {
     "data": {
      "text/plain": [
       "'/Users/stories2/Documents/GitHub/Flask-server'"
      ]
     },
     "execution_count": 3,
     "metadata": {},
     "output_type": "execute_result"
    }
   ],
   "source": [
    "pwd"
   ]
  },
  {
   "cell_type": "code",
   "execution_count": 5,
   "metadata": {},
   "outputs": [
    {
     "name": "stdout",
     "output_type": "stream",
     "text": [
      "total 344\r\n-rw-r--r--  1 stories2  staff  165623 Aug  1 16:26 bitcoin_ticker_eth_krw_hour.csv\r\n-rw-r--r--  1 stories2  staff    4412 Aug  1 16:31 rnn-stock-prediction.ipynb\r\n"
     ]
    }
   ],
   "source": [
    "ls -l ./Tests"
   ]
  },
  {
   "cell_type": "code",
   "execution_count": 6,
   "metadata": {},
   "outputs": [
    {
     "name": "stdout",
     "output_type": "stream",
     "text": [
      "['last' 'bid' 'ask' 'low' 'high' 'volume']\n[[ 0.52493075  0.37053353  0.52463567  0.60770975  0.54615385  0.32157781]\n [ 0.59141274  0.41752325  0.59333796  0.60770975  0.52820513  0.32015694]]\n[[ 0.52493075]\n [ 0.59141274]]\n"
     ]
    }
   ],
   "source": [
    "# train Parameters\n",
    "seq_length = 7\n",
    "data_dim = 6\n",
    "hidden_dim = 10\n",
    "output_dim = 1\n",
    "learning_rate = 0.01\n",
    "\n",
    "# bid ask low high volume\n",
    "xy = np.genfromtxt('./Tests/bitcoin_ticker_eth_krw_hour.csv', delimiter=',', dtype=np.str)[:,[4,7,8,9,10,11]]\n",
    "print(xy[0])\n",
    "\n",
    "xy = xy[1:].astype(np.float)\n",
    "xy = MinMaxScaler(xy[1:]) #normalize\n",
    "x = xy[:]\n",
    "y = xy[:,[0]]\n",
    "print(x[:2])\n",
    "print(y[:2])"
   ]
  },
  {
   "cell_type": "code",
   "execution_count": 7,
   "metadata": {},
   "outputs": [
    {
     "name": "stdout",
     "output_type": "stream",
     "text": [
      "[[ 0.52493075  0.37053353  0.52463567  0.60770975  0.54615385  0.32157781]\n [ 0.59141274  0.41752325  0.59333796  0.60770975  0.52820513  0.32015694]\n [ 0.55817175  0.39402839  0.57321305  0.60770975  0.52820513  0.32937215]\n [ 0.60249307  0.39255996  0.59750173  0.60770975  0.52820513  0.33856945]\n [ 0.50069252  0.35340186  0.50104094  0.60770975  0.52820513  0.34429369]\n [ 0.51385042  0.35829662  0.50728661  0.60770975  0.52820513  0.35179124]\n [ 0.47368421  0.33431229  0.48507981  0.60770975  0.51623932  0.34650965]] -> [ 0.48268698]\n[[ 0.59141274  0.41752325  0.59333796  0.60770975  0.52820513  0.32015694]\n [ 0.55817175  0.39402839  0.57321305  0.60770975  0.52820513  0.32937215]\n [ 0.60249307  0.39255996  0.59750173  0.60770975  0.52820513  0.33856945]\n [ 0.50069252  0.35340186  0.50104094  0.60770975  0.52820513  0.34429369]\n [ 0.51385042  0.35829662  0.50728661  0.60770975  0.52820513  0.35179124]\n [ 0.47368421  0.33431229  0.48507981  0.60770975  0.51623932  0.34650965]\n [ 0.48268698  0.33969652  0.48160999  0.60770975  0.48717949  0.33841812]] -> [ 0.47437673]\n"
     ]
    }
   ],
   "source": [
    "# build a dataset\n",
    "dataX = []\n",
    "dataY = []\n",
    "for i in range(0, len(y) - seq_length):\n",
    "    _x = x[i:i + seq_length]\n",
    "    _y = y[i + seq_length]  # Next last price\n",
    "    if i < 2 : print(_x, \"->\", _y)\n",
    "    dataX.append(_x)\n",
    "    dataY.append(_y)"
   ]
  },
  {
   "cell_type": "code",
   "execution_count": 8,
   "metadata": {},
   "outputs": [
    {
     "name": "stdout",
     "output_type": "stream",
     "text": [
      "[[[ 0.52493075  0.37053353  0.52463567  0.60770975  0.54615385  0.32157781]\n  [ 0.59141274  0.41752325  0.59333796  0.60770975  0.52820513  0.32015694]\n  [ 0.55817175  0.39402839  0.57321305  0.60770975  0.52820513  0.32937215]\n  [ 0.60249307  0.39255996  0.59750173  0.60770975  0.52820513  0.33856945]\n  [ 0.50069252  0.35340186  0.50104094  0.60770975  0.52820513  0.34429369]\n  [ 0.51385042  0.35829662  0.50728661  0.60770975  0.52820513  0.35179124]\n  [ 0.47368421  0.33431229  0.48507981  0.60770975  0.51623932  0.34650965]]\n\n [[ 0.59141274  0.41752325  0.59333796  0.60770975  0.52820513  0.32015694]\n  [ 0.55817175  0.39402839  0.57321305  0.60770975  0.52820513  0.32937215]\n  [ 0.60249307  0.39255996  0.59750173  0.60770975  0.52820513  0.33856945]\n  [ 0.50069252  0.35340186  0.50104094  0.60770975  0.52820513  0.34429369]\n  [ 0.51385042  0.35829662  0.50728661  0.60770975  0.52820513  0.35179124]\n  [ 0.47368421  0.33431229  0.48507981  0.60770975  0.51623932  0.34650965]\n  [ 0.48268698  0.33969652  0.48160999  0.60770975  0.48717949  0.33841812]]]\n[[ 0.48268698]\n [ 0.47437673]]\n"
     ]
    }
   ],
   "source": [
    "# train/test split\n",
    "train_size = int(len(dataY) * 0.7)\n",
    "test_size = len(dataY) - train_size\n",
    "trainX, testX = np.array(dataX[0:train_size]), np.array(dataX[train_size:len(dataX)])\n",
    "trainY, testY = np.array(dataY[0:train_size]), np.array(dataY[train_size:len(dataY)])\n",
    "\n",
    "print(trainX[:2])\n",
    "print(trainY[:2])"
   ]
  },
  {
   "cell_type": "code",
   "execution_count": 9,
   "metadata": {},
   "outputs": [],
   "source": [
    "# input place holders\n",
    "X = tf.placeholder(tf.float32, [None, seq_length, data_dim])\n",
    "Y = tf.placeholder(tf.float32, [None, 1])\n",
    "\n",
    "# build a LSTM network\n",
    "cell = tf.contrib.rnn.BasicLSTMCell(num_units=hidden_dim, state_is_tuple=True, activation=tf.tanh)\n",
    "outputs, _states = tf.nn.dynamic_rnn(cell, X, dtype=tf.float32)\n",
    "# outputs[:, -1] : all batch of data_dim of last seq_length\n",
    "Y_pred = tf.contrib.layers.fully_connected(outputs[:, -1], output_dim, activation_fn=None)  # We use the last cell's output\n",
    "\n",
    "# cost/loss\n",
    "loss = tf.reduce_sum(tf.square(Y_pred - Y))  # sum of the squares\n",
    "\n",
    "# optimizer\n",
    "optimizer = tf.train.AdamOptimizer(learning_rate)\n",
    "train = optimizer.minimize(loss)"
   ]
  },
  {
   "cell_type": "code",
   "execution_count": 10,
   "metadata": {},
   "outputs": [
    {
     "name": "stdout",
     "output_type": "stream",
     "text": [
      "[step: 0] loss: 339.6351013183594\n[step: 1] loss: 147.8060760498047\n[step: 2] loss: 43.96809387207031\n[step: 3] loss: 4.8833184242248535\n[step: 4] loss: 7.362371921539307\n[step: 5] loss: 27.404855728149414\n[step: 6] loss: 44.140167236328125\n[step: 7] loss: 49.23305892944336\n[step: 8] loss: 44.13612365722656\n[step: 9] loss: 33.338172912597656\n[step: 10] loss: 21.170717239379883\n[step: 11] loss: 10.860898971557617\n[step: 12] loss: 4.362303256988525\n[step: 13] loss: 2.3717429637908936\n[step: 14] loss: 4.318700313568115\n[step: 15] loss: 8.350320816040039\n[step: 16] loss: 12.057479858398438\n[step: 17] loss: 13.890363693237305\n[step: 18] loss: 13.580594062805176\n[step: 19] loss: 11.688453674316406\n[step: 20] loss: 9.057976722717285\n[step: 21] loss: 6.4552507400512695\n[step: 22] loss: 4.398677349090576\n[step: 23] loss: 3.1261823177337646\n"
     ]
    },
    {
     "name": "stdout",
     "output_type": "stream",
     "text": [
      "[step: 24] loss: 2.640333890914917\n[step: 25] loss: 2.784273147583008\n[step: 26] loss: 3.3199493885040283\n[step: 27] loss: 3.9950618743896484\n[step: 28] loss: 4.593746662139893\n[step: 29] loss: 4.968806743621826\n[step: 30] loss: 5.054976463317871\n[step: 31] loss: 4.864077568054199\n[step: 32] loss: 4.466331481933594\n[step: 33] loss: 3.963874101638794\n[step: 34] loss: 3.46295166015625\n[step: 35] loss: 3.0509228706359863\n[step: 36] loss: 2.781545877456665\n[step: 37] loss: 2.669959783554077\n[step: 38] loss: 2.6965742111206055\n[step: 39] loss: 2.817318916320801\n[step: 40] loss: 2.9770047664642334\n[step: 41] loss: 3.1227223873138428\n[step: 42] loss: 3.214246988296509\n[step: 43] loss: 3.230350971221924\n"
     ]
    },
    {
     "name": "stdout",
     "output_type": "stream",
     "text": [
      "[step: 44] loss: 3.1700668334960938\n[step: 45] loss: 3.049607038497925\n[step: 46] loss: 2.8962111473083496\n[step: 47] loss: 2.7404849529266357\n[step: 48] loss: 2.6092257499694824\n[step: 49] loss: 2.5198307037353516\n[step: 50] loss: 2.4777283668518066\n[step: 51] loss: 2.4766929149627686\n[step: 52] loss: 2.501945972442627\n[step: 53] loss: 2.534839153289795\n[step: 54] loss: 2.557969093322754\n[step: 55] loss: 2.559283494949341\n[step: 56] loss: 2.534325122833252\n[step: 57] loss: 2.486248731613159\n[step: 58] loss: 2.423877716064453\n[step: 59] loss: 2.358532428741455\n[step: 60] loss: 2.3006951808929443\n[step: 61] loss: 2.257333517074585\n[step: 62] loss: 2.230552911758423\n[step: 63] loss: 2.2177910804748535\n[step: 64] loss: 2.213168144226074\n[step: 65] loss: 2.209625244140625\n[step: 66] loss: 2.2010138034820557\n[step: 67] loss: 2.183680534362793\n[step: 68] loss: 2.1571099758148193\n[step: 69] loss: 2.123613119125366\n[step: 70] loss: 2.087226152420044\n"
     ]
    },
    {
     "name": "stdout",
     "output_type": "stream",
     "text": [
      "[step: 71] loss: 2.05228328704834\n[step: 72] loss: 2.0220746994018555\n[step: 73] loss: 1.9980149269104004\n[step: 74] loss: 1.979488730430603\n[step: 75] loss: 1.9643317461013794\n[step: 76] loss: 1.9497404098510742\n[step: 77] loss: 1.9332690238952637\n[step: 78] loss: 1.9135373830795288\n[step: 79] loss: 1.8905601501464844\n[step: 80] loss: 1.865518569946289\n[step: 81] loss: 1.8401812314987183\n[step: 82] loss: 1.8162552118301392\n[step: 83] loss: 1.7947845458984375\n[step: 84] loss: 1.7758939266204834\n[step: 85] loss: 1.7588833570480347\n[step: 86] loss: 1.7425854206085205\n[step: 87] loss: 1.7258447408676147\n[step: 88] loss: 1.7079285383224487\n[step: 89] loss: 1.6887362003326416\n[step: 90] loss: 1.668716549873352\n[step: 91] loss: 1.6486467123031616\n[step: 92] loss: 1.6292792558670044\n[step: 93] loss: 1.611057996749878\n[step: 94] loss: 1.5940190553665161\n[step: 95] loss: 1.5778048038482666\n"
     ]
    },
    {
     "name": "stdout",
     "output_type": "stream",
     "text": [
      "[step: 96] loss: 1.5619049072265625\n[step: 97] loss: 1.5458471775054932\n[step: 98] loss: 1.5294189453125\n[step: 99] loss: 1.5126839876174927\n[step: 100] loss: 1.4959392547607422\n[step: 101] loss: 1.4795336723327637\n[step: 102] loss: 1.4637339115142822\n[step: 103] loss: 1.4486043453216553\n[step: 104] loss: 1.4340102672576904\n[step: 105] loss: 1.4197214841842651\n[step: 106] loss: 1.4054946899414062\n[step: 107] loss: 1.3911936283111572\n[step: 108] loss: 1.3768450021743774\n[step: 109] loss: 1.362586259841919\n[step: 110] loss: 1.3485811948776245\n[step: 111] loss: 1.3349571228027344\n[step: 112] loss: 1.3217418193817139\n[step: 113] loss: 1.3088563680648804\n[step: 114] loss: 1.2961971759796143\n[step: 115] loss: 1.283656358718872\n[step: 116] loss: 1.2711999416351318\n[step: 117] loss: 1.2588608264923096\n[step: 118] loss: 1.2467074394226074\n[step: 119] loss: 1.2348138093948364\n[step: 120] loss: 1.2232139110565186\n[step: 121] loss: 1.211876630783081\n[step: 122] loss: 1.2007485628128052\n[step: 123] loss: 1.1897705793380737\n"
     ]
    },
    {
     "name": "stdout",
     "output_type": "stream",
     "text": [
      "[step: 124] loss: 1.1789084672927856\n[step: 125] loss: 1.1681666374206543\n[step: 126] loss: 1.15758216381073\n[step: 127] loss: 1.147188425064087\n[step: 128] loss: 1.1370104551315308\n[step: 129] loss: 1.127034306526184\n[step: 130] loss: 1.1172395944595337\n[step: 131] loss: 1.1075917482376099\n[step: 132] loss: 1.0980792045593262\n[step: 133] loss: 1.0887017250061035\n[step: 134] loss: 1.07947838306427\n[step: 135] loss: 1.0704247951507568\n[step: 136] loss: 1.0615400075912476\n[step: 137] loss: 1.0528180599212646\n[step: 138] loss: 1.0442408323287964\n[step: 139] loss: 1.0357904434204102\n[step: 140] loss: 1.0274604558944702\n[step: 141] loss: 1.0192564725875854\n[step: 142] loss: 1.011186122894287\n[step: 143] loss: 1.003257155418396\n[step: 144] loss: 0.9954695701599121\n[step: 145] loss: 0.98781418800354\n[step: 146] loss: 0.980283796787262\n[step: 147] loss: 0.9728682041168213\n[step: 148] loss: 0.9655713438987732\n[step: 149] loss: 0.9583962559700012\n[step: 150] loss: 0.9513466358184814\n[step: 151] loss: 0.9444183111190796"
     ]
    },
    {
     "name": "stdout",
     "output_type": "stream",
     "text": [
      "\n[step: 152] loss: 0.9376108646392822\n[step: 153] loss: 0.9309120178222656\n[step: 154] loss: 0.9243217706680298\n[step: 155] loss: 0.917838990688324\n[step: 156] loss: 0.9114661812782288\n[step: 157] loss: 0.9052039980888367\n[step: 158] loss: 0.899055540561676\n[step: 159] loss: 0.8930124640464783\n[step: 160] loss: 0.8870744705200195\n[step: 161] loss: 0.8812416791915894\n[step: 162] loss: 0.8755155205726624\n[step: 163] loss: 0.8698895573616028\n[step: 164] loss: 0.8643714785575867\n[step: 165] loss: 0.8589538931846619\n[step: 166] loss: 0.853639543056488\n[step: 167] loss: 0.8484257459640503\n[step: 168] loss: 0.8433084487915039\n[step: 169] loss: 0.838291347026825\n[step: 170] loss: 0.8333749771118164\n[step: 171] loss: 0.8285571932792664\n[step: 172] loss: 0.8238356709480286\n[step: 173] loss: 0.8192160725593567\n[step: 174] loss: 0.8146907091140747\n[step: 175] loss: 0.8102601170539856\n[step: 176] loss: 0.8059288859367371\n[step: 177] loss: 0.8016946315765381\n[step: 178] loss: 0.7975566387176514\n[step: 179] loss: 0.7935119867324829"
     ]
    },
    {
     "name": "stdout",
     "output_type": "stream",
     "text": [
      "\n[step: 180] loss: 0.7895606160163879\n[step: 181] loss: 0.7857045531272888\n[step: 182] loss: 0.7819366455078125\n[step: 183] loss: 0.7782660126686096\n[step: 184] loss: 0.774684727191925\n[step: 185] loss: 0.771194577217102\n[step: 186] loss: 0.7677964568138123\n[step: 187] loss: 0.7644849419593811\n[step: 188] loss: 0.7612635493278503\n[step: 189] loss: 0.7581294178962708\n[step: 190] loss: 0.7550823092460632\n[step: 191] loss: 0.7521200180053711\n[step: 192] loss: 0.7492431998252869\n[step: 193] loss: 0.7464470267295837\n[step: 194] loss: 0.7437337040901184\n[step: 195] loss: 0.7411015033721924\n[step: 196] loss: 0.7385479211807251\n[step: 197] loss: 0.7360718250274658\n[step: 198] loss: 0.7336714267730713\n[step: 199] loss: 0.7313480973243713\n"
     ]
    },
    {
     "data": {
      "image/png": "[encoded data removed]",
      "text/plain": [
       "<matplotlib.figure.Figure at 0x1127250b8>"
      ]
     },
     "metadata": {},
     "output_type": "display_data"
    }
   ],
   "source": [
    "# train Parameters\n",
    "iterations = 200\n",
    "\n",
    "with tf.Session() as sess:\n",
    "    sess.run(tf.global_variables_initializer())\n",
    "    \n",
    "    # Training step\n",
    "    for i in range(iterations):\n",
    "        _, step_loss = sess.run([train, loss], feed_dict={X: trainX, Y: trainY})\n",
    "        print(\"[step: {}] loss: {}\".format(i, step_loss))\n",
    "#         print(sess.run(outputs[:, -1], feed_dict={X: trainX, Y: trainY}))\n",
    "        \n",
    "    # Test step\n",
    "    test_predict = sess.run(Y_pred, feed_dict={X: testX})\n",
    "    \n",
    "    # Plot predictions\n",
    "    plt.plot(testY)\n",
    "    plt.plot(test_predict)\n",
    "    plt.xlabel(\"Time Period\")\n",
    "    plt.ylabel(\"Stock Price\")\n",
    "    plt.show()"
   ]
  },
  {
   "cell_type": "code",
   "execution_count": null,
   "metadata": {},
   "outputs": [],
   "source": [
    ""
   ]
  }
 ],
 "metadata": {
  "kernelspec": {
   "display_name": "Python 2",
   "language": "python",
   "name": "python2"
  },
  "language_info": {
   "codemirror_mode": {
    "name": "ipython",
    "version": 2.0
   },
   "file_extension": ".py",
   "mimetype": "text/x-python",
   "name": "python",
   "nbconvert_exporter": "python",
   "pygments_lexer": "ipython2",
   "version": "2.7.6"
  }
 },
 "nbformat": 4,
 "nbformat_minor": 0
}